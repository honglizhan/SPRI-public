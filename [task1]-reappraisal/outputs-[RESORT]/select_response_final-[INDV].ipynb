{
 "cells": [
  {
   "cell_type": "code",
   "execution_count": 1,
   "metadata": {},
   "outputs": [],
   "source": [
    "import os\n",
    "import json\n",
    "\n",
    "# Add a \"response_final\" field to the jsonl files\n",
    "def process_jsonl(file_path):\n",
    "    new_lines = []\n",
    "    with open(file_path, 'r', encoding='utf-8') as f:\n",
    "        for line in f:\n",
    "            data = json.loads(line)\n",
    "            data_copy = data.copy()\n",
    "\n",
    "            num_reappraisal = 0\n",
    "            for key in data_copy.keys():\n",
    "                if \"reappraisal_output\" in key:\n",
    "                    data[\"response_final\"] = data[key]\n",
    "                    num_reappraisal += 1\n",
    "            if num_reappraisal > 1:\n",
    "                print(f\"More than one reappraisal output in {file_path}\")\n",
    "\n",
    "            new_lines.append(json.dumps(data))\n",
    "\n",
    "    # Write the processed data back to the file\n",
    "    with open(file_path, 'w', encoding='utf-8') as f:\n",
    "        for line in new_lines:\n",
    "            f.write(line + '\\n')"
   ]
  },
  {
   "cell_type": "code",
   "execution_count": 2,
   "metadata": {},
   "outputs": [
    {
     "name": "stdout",
     "output_type": "stream",
     "text": [
      "Processing complete.\n"
     ]
    }
   ],
   "source": [
    "# Path to your folder\n",
    "folder_path = './INDV/'\n",
    "\n",
    "# Loop through all files and subfolders\n",
    "for root, dirs, files in os.walk(folder_path):\n",
    "    for file in files:\n",
    "        if file.endswith('.jsonl'):\n",
    "            file_path = os.path.join(root, file)\n",
    "            process_jsonl(file_path)\n",
    "\n",
    "print(\"Processing complete.\")"
   ]
  }
 ],
 "metadata": {
  "kernelspec": {
   "display_name": "base",
   "language": "python",
   "name": "python3"
  },
  "language_info": {
   "codemirror_mode": {
    "name": "ipython",
    "version": 3
   },
   "file_extension": ".py",
   "mimetype": "text/x-python",
   "name": "python",
   "nbconvert_exporter": "python",
   "pygments_lexer": "ipython3",
   "version": "3.8.8"
  }
 },
 "nbformat": 4,
 "nbformat_minor": 2
}
