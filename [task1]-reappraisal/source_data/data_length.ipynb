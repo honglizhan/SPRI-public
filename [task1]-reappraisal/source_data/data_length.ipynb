{
 "cells": [
  {
   "cell_type": "code",
   "execution_count": 7,
   "metadata": {},
   "outputs": [
    {
     "name": "stdout",
     "output_type": "stream",
     "text": [
      "Mean: 170.5, Std: 99.20979454334805\n"
     ]
    }
   ],
   "source": [
    "import pandas as pd\n",
    "from nltk import word_tokenize\n",
    "import numpy as np\n",
    "\n",
    "file_df = pd.read_json(\"unique_resort_eval_data.json\")\n",
    "posts = file_df[\"Reddit Post\"].to_list()\n",
    "\n",
    "posts_tokenized = [word_tokenize(post) for post in posts]\n",
    "\n",
    "post_lengths = [len(post) for post in posts_tokenized]\n",
    "mean = np.mean(post_lengths)\n",
    "std = np.std(post_lengths)\n",
    "print (f\"Mean: {mean}, Std: {std}\")"
   ]
  }
 ],
 "metadata": {
  "kernelspec": {
   "display_name": "base",
   "language": "python",
   "name": "python3"
  },
  "language_info": {
   "codemirror_mode": {
    "name": "ipython",
    "version": 3
   },
   "file_extension": ".py",
   "mimetype": "text/x-python",
   "name": "python",
   "nbconvert_exporter": "python",
   "pygments_lexer": "ipython3",
   "version": "3.8.8"
  }
 },
 "nbformat": 4,
 "nbformat_minor": 2
}
